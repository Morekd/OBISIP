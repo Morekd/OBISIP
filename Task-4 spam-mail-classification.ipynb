{
 "cells": [
  {
   "cell_type": "code",
   "execution_count": 1,
   "id": "4a57450a",
   "metadata": {
    "_cell_guid": "b1076dfc-b9ad-4769-8c92-a6c4dae69d19",
    "_uuid": "8f2839f25d086af736a60e9eeb907d3b93b6e0e5",
    "execution": {
     "iopub.execute_input": "2023-03-09T19:39:00.706500Z",
     "iopub.status.busy": "2023-03-09T19:39:00.705928Z",
     "iopub.status.idle": "2023-03-09T19:39:03.847324Z",
     "shell.execute_reply": "2023-03-09T19:39:03.846044Z"
    },
    "papermill": {
     "duration": 3.15962,
     "end_time": "2023-03-09T19:39:03.851144",
     "exception": false,
     "start_time": "2023-03-09T19:39:00.691524",
     "status": "completed"
    },
    "tags": []
   },
   "outputs": [
    {
     "name": "stdout",
     "output_type": "stream",
     "text": [
      "[nltk_data] Downloading package stopwords to /usr/share/nltk_data...\n",
      "[nltk_data]   Unzipping corpora/stopwords.zip.\n",
      "[nltk_data] Downloading package punkt to /usr/share/nltk_data...\n",
      "[nltk_data]   Unzipping tokenizers/punkt.zip.\n",
      "[nltk_data] Downloading package averaged_perceptron_tagger to\n",
      "[nltk_data]     /usr/share/nltk_data...\n",
      "[nltk_data]   Package averaged_perceptron_tagger is already up-to-\n",
      "[nltk_data]       date!\n",
      "[nltk_data] Downloading package wordnet to /usr/share/nltk_data...\n",
      "[nltk_data]   Package wordnet is already up-to-date!\n",
      "/kaggle/input/spam-mails-dataset/spam_ham_dataset.csv\n"
     ]
    }
   ],
   "source": [
    "# This Python 3 environment comes with many helpful analytics libraries installed\n",
    "# It is defined by the kaggle/python Docker image: https://github.com/kaggle/docker-python\n",
    "# For example, here's several helpful packages to load\n",
    "\n",
    "import pandas as pd\n",
    "import seaborn as sns\n",
    "import matplotlib.pyplot as plt\n",
    "import re\n",
    "import nltk\n",
    "from sklearn.feature_extraction.text import TfidfVectorizer\n",
    "from sklearn.model_selection import train_test_split\n",
    "from sklearn.metrics import classification_report, f1_score, accuracy_score, confusion_matrix\n",
    "from sklearn.naive_bayes import MultinomialNB\n",
    "from sklearn.linear_model import LogisticRegression\n",
    "from sklearn.ensemble import RandomForestClassifier\n",
    "from nltk.corpus import stopwords\n",
    "from nltk.stem import WordNetLemmatizer\n",
    "from nltk.tokenize import word_tokenize\n",
    "from nltk.corpus import wordnet\n",
    "nltk.download('stopwords')\n",
    "nltk.download('punkt')\n",
    "nltk.download('averaged_perceptron_tagger')\n",
    "nltk.download('wordnet')\n",
    "\n",
    "import warnings\n",
    "warnings.filterwarnings(\"ignore\")\n",
    "\n",
    "# Input data files are available in the read-only \"../input/\" directory\n",
    "# For example, running this (by clicking run or pressing Shift+Enter) will list all files under the input directory\n",
    "\n",
    "import os\n",
    "for dirname, _, filenames in os.walk('/kaggle/input'):\n",
    "    for filename in filenames:\n",
    "        print(os.path.join(dirname, filename))\n",
    "\n",
    "# You can write up to 20GB to the current directory (/kaggle/working/) that gets preserved as output when you create a version using \"Save & Run All\" \n",
    "# You can also write temporary files to /kaggle/temp/, but they won't be saved outside of the current session"
   ]
  },
  {
   "cell_type": "markdown",
   "id": "4468ebb0",
   "metadata": {
    "papermill": {
     "duration": 0.01111,
     "end_time": "2023-03-09T19:39:03.874461",
     "exception": false,
     "start_time": "2023-03-09T19:39:03.863351",
     "status": "completed"
    },
    "tags": []
   },
   "source": [
    "## Import Libraries "
   ]
  },
  {
   "cell_type": "code",
   "execution_count": 2,
   "id": "05d45abe",
   "metadata": {
    "execution": {
     "iopub.execute_input": "2023-03-09T19:39:03.899618Z",
     "iopub.status.busy": "2023-03-09T19:39:03.898895Z",
     "iopub.status.idle": "2023-03-09T19:39:04.073651Z",
     "shell.execute_reply": "2023-03-09T19:39:04.072678Z"
    },
    "papermill": {
     "duration": 0.1905,
     "end_time": "2023-03-09T19:39:04.076417",
     "exception": false,
     "start_time": "2023-03-09T19:39:03.885917",
     "status": "completed"
    },
    "tags": []
   },
   "outputs": [],
   "source": [
    "path = '../input/spam-mails-dataset/spam_ham_dataset.csv'\n",
    "df = pd.read_csv(path)"
   ]
  },
  {
   "cell_type": "code",
   "execution_count": 3,
   "id": "adc0a7da",
   "metadata": {
    "execution": {
     "iopub.execute_input": "2023-03-09T19:39:04.102982Z",
     "iopub.status.busy": "2023-03-09T19:39:04.102514Z",
     "iopub.status.idle": "2023-03-09T19:39:04.124987Z",
     "shell.execute_reply": "2023-03-09T19:39:04.123658Z"
    },
    "papermill": {
     "duration": 0.040252,
     "end_time": "2023-03-09T19:39:04.128080",
     "exception": false,
     "start_time": "2023-03-09T19:39:04.087828",
     "status": "completed"
    },
    "tags": []
   },
   "outputs": [
    {
     "data": {
      "text/html": [
       "<div>\n",
       "<style scoped>\n",
       "    .dataframe tbody tr th:only-of-type {\n",
       "        vertical-align: middle;\n",
       "    }\n",
       "\n",
       "    .dataframe tbody tr th {\n",
       "        vertical-align: top;\n",
       "    }\n",
       "\n",
       "    .dataframe thead th {\n",
       "        text-align: right;\n",
       "    }\n",
       "</style>\n",
       "<table border=\"1\" class=\"dataframe\">\n",
       "  <thead>\n",
       "    <tr style=\"text-align: right;\">\n",
       "      <th></th>\n",
       "      <th>Unnamed: 0</th>\n",
       "      <th>label</th>\n",
       "      <th>text</th>\n",
       "      <th>label_num</th>\n",
       "    </tr>\n",
       "  </thead>\n",
       "  <tbody>\n",
       "    <tr>\n",
       "      <th>0</th>\n",
       "      <td>605</td>\n",
       "      <td>ham</td>\n",
       "      <td>Subject: enron methanol ; meter # : 988291\\r\\n...</td>\n",
       "      <td>0</td>\n",
       "    </tr>\n",
       "    <tr>\n",
       "      <th>1</th>\n",
       "      <td>2349</td>\n",
       "      <td>ham</td>\n",
       "      <td>Subject: hpl nom for january 9 , 2001\\r\\n( see...</td>\n",
       "      <td>0</td>\n",
       "    </tr>\n",
       "    <tr>\n",
       "      <th>2</th>\n",
       "      <td>3624</td>\n",
       "      <td>ham</td>\n",
       "      <td>Subject: neon retreat\\r\\nho ho ho , we ' re ar...</td>\n",
       "      <td>0</td>\n",
       "    </tr>\n",
       "    <tr>\n",
       "      <th>3</th>\n",
       "      <td>4685</td>\n",
       "      <td>spam</td>\n",
       "      <td>Subject: photoshop , windows , office . cheap ...</td>\n",
       "      <td>1</td>\n",
       "    </tr>\n",
       "    <tr>\n",
       "      <th>4</th>\n",
       "      <td>2030</td>\n",
       "      <td>ham</td>\n",
       "      <td>Subject: re : indian springs\\r\\nthis deal is t...</td>\n",
       "      <td>0</td>\n",
       "    </tr>\n",
       "  </tbody>\n",
       "</table>\n",
       "</div>"
      ],
      "text/plain": [
       "   Unnamed: 0 label                                               text  \\\n",
       "0         605   ham  Subject: enron methanol ; meter # : 988291\\r\\n...   \n",
       "1        2349   ham  Subject: hpl nom for january 9 , 2001\\r\\n( see...   \n",
       "2        3624   ham  Subject: neon retreat\\r\\nho ho ho , we ' re ar...   \n",
       "3        4685  spam  Subject: photoshop , windows , office . cheap ...   \n",
       "4        2030   ham  Subject: re : indian springs\\r\\nthis deal is t...   \n",
       "\n",
       "   label_num  \n",
       "0          0  \n",
       "1          0  \n",
       "2          0  \n",
       "3          1  \n",
       "4          0  "
      ]
     },
     "execution_count": 3,
     "metadata": {},
     "output_type": "execute_result"
    }
   ],
   "source": [
    "df.head()"
   ]
  },
  {
   "cell_type": "code",
   "execution_count": 4,
   "id": "f76fb1fd",
   "metadata": {
    "execution": {
     "iopub.execute_input": "2023-03-09T19:39:04.153354Z",
     "iopub.status.busy": "2023-03-09T19:39:04.152893Z",
     "iopub.status.idle": "2023-03-09T19:39:04.172585Z",
     "shell.execute_reply": "2023-03-09T19:39:04.171328Z"
    },
    "papermill": {
     "duration": 0.035727,
     "end_time": "2023-03-09T19:39:04.175441",
     "exception": false,
     "start_time": "2023-03-09T19:39:04.139714",
     "status": "completed"
    },
    "tags": []
   },
   "outputs": [
    {
     "data": {
      "text/html": [
       "<div>\n",
       "<style scoped>\n",
       "    .dataframe tbody tr th:only-of-type {\n",
       "        vertical-align: middle;\n",
       "    }\n",
       "\n",
       "    .dataframe tbody tr th {\n",
       "        vertical-align: top;\n",
       "    }\n",
       "\n",
       "    .dataframe thead th {\n",
       "        text-align: right;\n",
       "    }\n",
       "</style>\n",
       "<table border=\"1\" class=\"dataframe\">\n",
       "  <thead>\n",
       "    <tr style=\"text-align: right;\">\n",
       "      <th></th>\n",
       "      <th>label</th>\n",
       "      <th>text</th>\n",
       "      <th>label_num</th>\n",
       "    </tr>\n",
       "  </thead>\n",
       "  <tbody>\n",
       "    <tr>\n",
       "      <th>0</th>\n",
       "      <td>ham</td>\n",
       "      <td>Subject: enron methanol ; meter # : 988291\\r\\n...</td>\n",
       "      <td>0</td>\n",
       "    </tr>\n",
       "    <tr>\n",
       "      <th>1</th>\n",
       "      <td>ham</td>\n",
       "      <td>Subject: hpl nom for january 9 , 2001\\r\\n( see...</td>\n",
       "      <td>0</td>\n",
       "    </tr>\n",
       "    <tr>\n",
       "      <th>2</th>\n",
       "      <td>ham</td>\n",
       "      <td>Subject: neon retreat\\r\\nho ho ho , we ' re ar...</td>\n",
       "      <td>0</td>\n",
       "    </tr>\n",
       "    <tr>\n",
       "      <th>3</th>\n",
       "      <td>spam</td>\n",
       "      <td>Subject: photoshop , windows , office . cheap ...</td>\n",
       "      <td>1</td>\n",
       "    </tr>\n",
       "    <tr>\n",
       "      <th>4</th>\n",
       "      <td>ham</td>\n",
       "      <td>Subject: re : indian springs\\r\\nthis deal is t...</td>\n",
       "      <td>0</td>\n",
       "    </tr>\n",
       "  </tbody>\n",
       "</table>\n",
       "</div>"
      ],
      "text/plain": [
       "  label                                               text  label_num\n",
       "0   ham  Subject: enron methanol ; meter # : 988291\\r\\n...          0\n",
       "1   ham  Subject: hpl nom for january 9 , 2001\\r\\n( see...          0\n",
       "2   ham  Subject: neon retreat\\r\\nho ho ho , we ' re ar...          0\n",
       "3  spam  Subject: photoshop , windows , office . cheap ...          1\n",
       "4   ham  Subject: re : indian springs\\r\\nthis deal is t...          0"
      ]
     },
     "execution_count": 4,
     "metadata": {},
     "output_type": "execute_result"
    }
   ],
   "source": [
    "df = df.drop(['Unnamed: 0'], axis=1)\n",
    "df.head()"
   ]
  },
  {
   "cell_type": "code",
   "execution_count": 5,
   "id": "597edd20",
   "metadata": {
    "execution": {
     "iopub.execute_input": "2023-03-09T19:39:04.201157Z",
     "iopub.status.busy": "2023-03-09T19:39:04.200722Z",
     "iopub.status.idle": "2023-03-09T19:39:04.213491Z",
     "shell.execute_reply": "2023-03-09T19:39:04.212410Z"
    },
    "papermill": {
     "duration": 0.028484,
     "end_time": "2023-03-09T19:39:04.215823",
     "exception": false,
     "start_time": "2023-03-09T19:39:04.187339",
     "status": "completed"
    },
    "tags": []
   },
   "outputs": [
    {
     "data": {
      "text/html": [
       "<div>\n",
       "<style scoped>\n",
       "    .dataframe tbody tr th:only-of-type {\n",
       "        vertical-align: middle;\n",
       "    }\n",
       "\n",
       "    .dataframe tbody tr th {\n",
       "        vertical-align: top;\n",
       "    }\n",
       "\n",
       "    .dataframe thead th {\n",
       "        text-align: right;\n",
       "    }\n",
       "</style>\n",
       "<table border=\"1\" class=\"dataframe\">\n",
       "  <thead>\n",
       "    <tr style=\"text-align: right;\">\n",
       "      <th></th>\n",
       "      <th>label</th>\n",
       "      <th>text</th>\n",
       "    </tr>\n",
       "  </thead>\n",
       "  <tbody>\n",
       "    <tr>\n",
       "      <th>0</th>\n",
       "      <td>ham</td>\n",
       "      <td>Subject: enron methanol ; meter # : 988291\\r\\n...</td>\n",
       "    </tr>\n",
       "    <tr>\n",
       "      <th>1</th>\n",
       "      <td>ham</td>\n",
       "      <td>Subject: hpl nom for january 9 , 2001\\r\\n( see...</td>\n",
       "    </tr>\n",
       "    <tr>\n",
       "      <th>2</th>\n",
       "      <td>ham</td>\n",
       "      <td>Subject: neon retreat\\r\\nho ho ho , we ' re ar...</td>\n",
       "    </tr>\n",
       "    <tr>\n",
       "      <th>3</th>\n",
       "      <td>spam</td>\n",
       "      <td>Subject: photoshop , windows , office . cheap ...</td>\n",
       "    </tr>\n",
       "    <tr>\n",
       "      <th>4</th>\n",
       "      <td>ham</td>\n",
       "      <td>Subject: re : indian springs\\r\\nthis deal is t...</td>\n",
       "    </tr>\n",
       "  </tbody>\n",
       "</table>\n",
       "</div>"
      ],
      "text/plain": [
       "  label                                               text\n",
       "0   ham  Subject: enron methanol ; meter # : 988291\\r\\n...\n",
       "1   ham  Subject: hpl nom for january 9 , 2001\\r\\n( see...\n",
       "2   ham  Subject: neon retreat\\r\\nho ho ho , we ' re ar...\n",
       "3  spam  Subject: photoshop , windows , office . cheap ...\n",
       "4   ham  Subject: re : indian springs\\r\\nthis deal is t..."
      ]
     },
     "execution_count": 5,
     "metadata": {},
     "output_type": "execute_result"
    }
   ],
   "source": [
    "# drop salah satu kolom label\n",
    "df = df.drop(['label_num'], axis=1)\n",
    "df.head()"
   ]
  },
  {
   "cell_type": "markdown",
   "id": "1916fed1",
   "metadata": {
    "papermill": {
     "duration": 0.01158,
     "end_time": "2023-03-09T19:39:04.239554",
     "exception": false,
     "start_time": "2023-03-09T19:39:04.227974",
     "status": "completed"
    },
    "tags": []
   },
   "source": [
    "## Exploratory Data Analysis"
   ]
  },
  {
   "cell_type": "code",
   "execution_count": 6,
   "id": "e67c33ff",
   "metadata": {
    "execution": {
     "iopub.execute_input": "2023-03-09T19:39:04.266218Z",
     "iopub.status.busy": "2023-03-09T19:39:04.265722Z",
     "iopub.status.idle": "2023-03-09T19:39:04.271672Z",
     "shell.execute_reply": "2023-03-09T19:39:04.270370Z"
    },
    "papermill": {
     "duration": 0.022629,
     "end_time": "2023-03-09T19:39:04.274209",
     "exception": false,
     "start_time": "2023-03-09T19:39:04.251580",
     "status": "completed"
    },
    "tags": []
   },
   "outputs": [
    {
     "name": "stdout",
     "output_type": "stream",
     "text": [
      "Terdapat 5171 data email\n"
     ]
    }
   ],
   "source": [
    "# cek jumlah keseluruahan baris data\n",
    "print('Terdapat %s data email'% len(df))"
   ]
  },
  {
   "cell_type": "code",
   "execution_count": 7,
   "id": "4e20afdc",
   "metadata": {
    "execution": {
     "iopub.execute_input": "2023-03-09T19:39:04.301196Z",
     "iopub.status.busy": "2023-03-09T19:39:04.300494Z",
     "iopub.status.idle": "2023-03-09T19:39:04.313391Z",
     "shell.execute_reply": "2023-03-09T19:39:04.312051Z"
    },
    "papermill": {
     "duration": 0.02954,
     "end_time": "2023-03-09T19:39:04.316217",
     "exception": false,
     "start_time": "2023-03-09T19:39:04.286677",
     "status": "completed"
    },
    "tags": []
   },
   "outputs": [
    {
     "data": {
      "text/plain": [
       "ham     3672\n",
       "spam    1499\n",
       "Name: label, dtype: int64"
      ]
     },
     "execution_count": 7,
     "metadata": {},
     "output_type": "execute_result"
    }
   ],
   "source": [
    "# cek jumlah masing masing label (spam dan ham)\n",
    "df['label'].value_counts()"
   ]
  },
  {
   "cell_type": "code",
   "execution_count": 8,
   "id": "f0297c0c",
   "metadata": {
    "execution": {
     "iopub.execute_input": "2023-03-09T19:39:04.342903Z",
     "iopub.status.busy": "2023-03-09T19:39:04.342408Z",
     "iopub.status.idle": "2023-03-09T19:39:04.350315Z",
     "shell.execute_reply": "2023-03-09T19:39:04.349386Z"
    },
    "papermill": {
     "duration": 0.024148,
     "end_time": "2023-03-09T19:39:04.352653",
     "exception": false,
     "start_time": "2023-03-09T19:39:04.328505",
     "status": "completed"
    },
    "tags": []
   },
   "outputs": [],
   "source": [
    "# mengubah label \"ham\" menjadi \"non-spam\" agar lebih mudah dipahami\n",
    "df['label'] = df['label'].replace(['ham'],'non-spam')"
   ]
  },
  {
   "cell_type": "code",
   "execution_count": 9,
   "id": "6c6b3f48",
   "metadata": {
    "execution": {
     "iopub.execute_input": "2023-03-09T19:39:04.379017Z",
     "iopub.status.busy": "2023-03-09T19:39:04.378539Z",
     "iopub.status.idle": "2023-03-09T19:39:04.556997Z",
     "shell.execute_reply": "2023-03-09T19:39:04.556025Z"
    },
    "papermill": {
     "duration": 0.195119,
     "end_time": "2023-03-09T19:39:04.560048",
     "exception": false,
     "start_time": "2023-03-09T19:39:04.364929",
     "status": "completed"
    },
    "tags": []
   },
   "outputs": [
    {
     "data": {
      "image/png": "[encoded data removed]",
      "text/plain": [
       "<Figure size 432x288 with 1 Axes>"
      ]
     },
     "metadata": {
      "needs_background": "light"
     },
     "output_type": "display_data"
    }
   ],
   "source": [
    "# plot persebaran jumlah masing masing label ke dalam bar chart\n",
    "df_label = sns.countplot(df['label'])\n",
    "df_label.set_xticklabels(df['label'].unique())\n",
    "plt.show()"
   ]
  },
  {
   "cell_type": "markdown",
   "id": "2571ba45",
   "metadata": {
    "execution": {
     "iopub.execute_input": "2022-07-06T06:29:57.571306Z",
     "iopub.status.busy": "2022-07-06T06:29:57.570986Z",
     "iopub.status.idle": "2022-07-06T06:29:57.578462Z",
     "shell.execute_reply": "2022-07-06T06:29:57.577168Z",
     "shell.execute_reply.started": "2022-07-06T06:29:57.571276Z"
    },
    "papermill": {
     "duration": 0.012181,
     "end_time": "2023-03-09T19:39:04.585634",
     "exception": false,
     "start_time": "2023-03-09T19:39:04.573453",
     "status": "completed"
    },
    "tags": []
   },
   "source": [
    "**Dapat dilihat bahwa persebaran data _spam_ dan _non-spam_ tidak seimbang, oleh karena pada tahap PREPROCESSING perlu disamakan jumlah data kedua label tersebut.**"
   ]
  },
  {
   "cell_type": "markdown",
   "id": "e916e2db",
   "metadata": {
    "papermill": {
     "duration": 0.011904,
     "end_time": "2023-03-09T19:39:04.610296",
     "exception": false,
     "start_time": "2023-03-09T19:39:04.598392",
     "status": "completed"
    },
    "tags": []
   },
   "source": [
    "**Melihat sample text**"
   ]
  },
  {
   "cell_type": "code",
   "execution_count": 10,
   "id": "2470ec67",
   "metadata": {
    "execution": {
     "iopub.execute_input": "2023-03-09T19:39:04.637203Z",
     "iopub.status.busy": "2023-03-09T19:39:04.636482Z",
     "iopub.status.idle": "2023-03-09T19:39:04.644147Z",
     "shell.execute_reply": "2023-03-09T19:39:04.642025Z"
    },
    "papermill": {
     "duration": 0.024614,
     "end_time": "2023-03-09T19:39:04.647214",
     "exception": false,
     "start_time": "2023-03-09T19:39:04.622600",
     "status": "completed"
    },
    "tags": []
   },
   "outputs": [
    {
     "name": "stdout",
     "output_type": "stream",
     "text": [
      "Subject: enron methanol ; meter # : 988291\r\n",
      "this is a follow up to the note i gave you on monday , 4 / 3 / 00 { preliminary\r\n",
      "flow data provided by daren } .\r\n",
      "please override pop ' s daily volume { presently zero } to reflect daily\r\n",
      "activity you can obtain from gas control .\r\n",
      "this change is needed asap for economics purposes .\n"
     ]
    }
   ],
   "source": [
    "print(df['text'][0])"
   ]
  },
  {
   "cell_type": "markdown",
   "id": "a7cde5aa",
   "metadata": {
    "papermill": {
     "duration": 0.011842,
     "end_time": "2023-03-09T19:39:04.671698",
     "exception": false,
     "start_time": "2023-03-09T19:39:04.659856",
     "status": "completed"
    },
    "tags": []
   },
   "source": [
    "# Preprocessing"
   ]
  },
  {
   "cell_type": "markdown",
   "id": "cc1f43d9",
   "metadata": {
    "papermill": {
     "duration": 0.012391,
     "end_time": "2023-03-09T19:39:04.696320",
     "exception": false,
     "start_time": "2023-03-09T19:39:04.683929",
     "status": "completed"
    },
    "tags": []
   },
   "source": [
    "karena data label tidak seimbang maka hanya diambil 1000 data pada masing masing label."
   ]
  },
  {
   "cell_type": "code",
   "execution_count": 11,
   "id": "c81fd06e",
   "metadata": {
    "execution": {
     "iopub.execute_input": "2023-03-09T19:39:04.724247Z",
     "iopub.status.busy": "2023-03-09T19:39:04.723736Z",
     "iopub.status.idle": "2023-03-09T19:39:04.732541Z",
     "shell.execute_reply": "2023-03-09T19:39:04.731431Z"
    },
    "papermill": {
     "duration": 0.025652,
     "end_time": "2023-03-09T19:39:04.735246",
     "exception": false,
     "start_time": "2023-03-09T19:39:04.709594",
     "status": "completed"
    },
    "tags": []
   },
   "outputs": [],
   "source": [
    "df = df.groupby('label').head(1000)"
   ]
  },
  {
   "cell_type": "code",
   "execution_count": 12,
   "id": "d1ae469e",
   "metadata": {
    "execution": {
     "iopub.execute_input": "2023-03-09T19:39:04.761821Z",
     "iopub.status.busy": "2023-03-09T19:39:04.761419Z",
     "iopub.status.idle": "2023-03-09T19:39:04.772827Z",
     "shell.execute_reply": "2023-03-09T19:39:04.771582Z"
    },
    "papermill": {
     "duration": 0.028047,
     "end_time": "2023-03-09T19:39:04.775693",
     "exception": false,
     "start_time": "2023-03-09T19:39:04.747646",
     "status": "completed"
    },
    "tags": []
   },
   "outputs": [
    {
     "data": {
      "text/plain": [
       "non-spam    1000\n",
       "spam        1000\n",
       "Name: label, dtype: int64"
      ]
     },
     "execution_count": 12,
     "metadata": {},
     "output_type": "execute_result"
    }
   ],
   "source": [
    "df['label'].value_counts()"
   ]
  },
  {
   "cell_type": "markdown",
   "id": "13728de6",
   "metadata": {
    "papermill": {
     "duration": 0.012658,
     "end_time": "2023-03-09T19:39:04.801000",
     "exception": false,
     "start_time": "2023-03-09T19:39:04.788342",
     "status": "completed"
    },
    "tags": []
   },
   "source": [
    "## Text Cleaning"
   ]
  },
  {
   "cell_type": "code",
   "execution_count": 13,
   "id": "d95bc1b4",
   "metadata": {
    "execution": {
     "iopub.execute_input": "2023-03-09T19:39:04.827835Z",
     "iopub.status.busy": "2023-03-09T19:39:04.826911Z",
     "iopub.status.idle": "2023-03-09T19:39:04.833256Z",
     "shell.execute_reply": "2023-03-09T19:39:04.832148Z"
    },
    "papermill": {
     "duration": 0.022799,
     "end_time": "2023-03-09T19:39:04.835975",
     "exception": false,
     "start_time": "2023-03-09T19:39:04.813176",
     "status": "completed"
    },
    "tags": []
   },
   "outputs": [],
   "source": [
    "import string\n",
    "\n",
    "punct = []\n",
    "for char in string.punctuation:\n",
    "    punct.append(char)"
   ]
  },
  {
   "cell_type": "code",
   "execution_count": 14,
   "id": "0b7b3495",
   "metadata": {
    "execution": {
     "iopub.execute_input": "2023-03-09T19:39:04.862898Z",
     "iopub.status.busy": "2023-03-09T19:39:04.862440Z",
     "iopub.status.idle": "2023-03-09T19:39:04.871619Z",
     "shell.execute_reply": "2023-03-09T19:39:04.870181Z"
    },
    "papermill": {
     "duration": 0.026288,
     "end_time": "2023-03-09T19:39:04.874706",
     "exception": false,
     "start_time": "2023-03-09T19:39:04.848418",
     "status": "completed"
    },
    "tags": []
   },
   "outputs": [],
   "source": [
    "def cleaning(txt):\n",
    "    # case folding\n",
    "    text = txt.lower()\n",
    "    \n",
    "    # remove multiple space, tabs, dan newlines\n",
    "    text = re.sub('\\s+',' ',text)\n",
    "    \n",
    "    # remove links\n",
    "    text = text.replace(\"http://\", \" \").replace(\"https://\", \" \")\n",
    "    \n",
    "    # remove special characters\n",
    "    text = text.encode('ascii', 'replace').decode('ascii')\n",
    "    text = ' '.join(re.sub(\"([@#][A-Za-z0-9]+)|(\\w+:\\/\\/\\S+)\",\" \", text).split())\n",
    "    \n",
    "    # remove punctuation\n",
    "    text = ''.join([word for word in text if word not in punct])\n",
    "    \n",
    "    #remove single character\n",
    "    text = re.sub(r\"\\b[a-zA-Z]\\b\", \"\", text)\n",
    "    \n",
    "    #remove numbers\n",
    "    text = re.sub(r\"\\d+\", \"\", text)\n",
    "    \n",
    "    #remove multiple spaces (again)\n",
    "    text = re.sub('\\s+',' ',text)\n",
    "    \n",
    "    return text"
   ]
  },
  {
   "cell_type": "code",
   "execution_count": 15,
   "id": "916d78da",
   "metadata": {
    "execution": {
     "iopub.execute_input": "2023-03-09T19:39:04.901829Z",
     "iopub.status.busy": "2023-03-09T19:39:04.901396Z",
     "iopub.status.idle": "2023-03-09T19:39:06.821892Z",
     "shell.execute_reply": "2023-03-09T19:39:06.820348Z"
    },
    "papermill": {
     "duration": 1.937604,
     "end_time": "2023-03-09T19:39:06.825184",
     "exception": false,
     "start_time": "2023-03-09T19:39:04.887580",
     "status": "completed"
    },
    "tags": []
   },
   "outputs": [
    {
     "data": {
      "text/html": [
       "<div>\n",
       "<style scoped>\n",
       "    .dataframe tbody tr th:only-of-type {\n",
       "        vertical-align: middle;\n",
       "    }\n",
       "\n",
       "    .dataframe tbody tr th {\n",
       "        vertical-align: top;\n",
       "    }\n",
       "\n",
       "    .dataframe thead th {\n",
       "        text-align: right;\n",
       "    }\n",
       "</style>\n",
       "<table border=\"1\" class=\"dataframe\">\n",
       "  <thead>\n",
       "    <tr style=\"text-align: right;\">\n",
       "      <th></th>\n",
       "      <th>text</th>\n",
       "      <th>text_cleaned</th>\n",
       "      <th>label</th>\n",
       "    </tr>\n",
       "  </thead>\n",
       "  <tbody>\n",
       "    <tr>\n",
       "      <th>0</th>\n",
       "      <td>Subject: enron methanol ; meter # : 988291\\r\\n...</td>\n",
       "      <td>subject enron methanol meter this is follow up...</td>\n",
       "      <td>non-spam</td>\n",
       "    </tr>\n",
       "    <tr>\n",
       "      <th>1</th>\n",
       "      <td>Subject: hpl nom for january 9 , 2001\\r\\n( see...</td>\n",
       "      <td>subject hpl nom for january see attached file ...</td>\n",
       "      <td>non-spam</td>\n",
       "    </tr>\n",
       "    <tr>\n",
       "      <th>2</th>\n",
       "      <td>Subject: neon retreat\\r\\nho ho ho , we ' re ar...</td>\n",
       "      <td>subject neon retreat ho ho ho we re around to ...</td>\n",
       "      <td>non-spam</td>\n",
       "    </tr>\n",
       "    <tr>\n",
       "      <th>3</th>\n",
       "      <td>Subject: photoshop , windows , office . cheap ...</td>\n",
       "      <td>subject photoshop windows office cheap main tr...</td>\n",
       "      <td>spam</td>\n",
       "    </tr>\n",
       "    <tr>\n",
       "      <th>4</th>\n",
       "      <td>Subject: re : indian springs\\r\\nthis deal is t...</td>\n",
       "      <td>subject re indian springs this deal is to book...</td>\n",
       "      <td>non-spam</td>\n",
       "    </tr>\n",
       "  </tbody>\n",
       "</table>\n",
       "</div>"
      ],
      "text/plain": [
       "                                                text  \\\n",
       "0  Subject: enron methanol ; meter # : 988291\\r\\n...   \n",
       "1  Subject: hpl nom for january 9 , 2001\\r\\n( see...   \n",
       "2  Subject: neon retreat\\r\\nho ho ho , we ' re ar...   \n",
       "3  Subject: photoshop , windows , office . cheap ...   \n",
       "4  Subject: re : indian springs\\r\\nthis deal is t...   \n",
       "\n",
       "                                        text_cleaned     label  \n",
       "0  subject enron methanol meter this is follow up...  non-spam  \n",
       "1  subject hpl nom for january see attached file ...  non-spam  \n",
       "2  subject neon retreat ho ho ho we re around to ...  non-spam  \n",
       "3  subject photoshop windows office cheap main tr...      spam  \n",
       "4  subject re indian springs this deal is to book...  non-spam  "
      ]
     },
     "execution_count": 15,
     "metadata": {},
     "output_type": "execute_result"
    }
   ],
   "source": [
    "# apply fungsi cleaning ke setiap text\n",
    "df['text_cleaned'] = df['text'].apply(lambda x: cleaning(x))\n",
    "df = df[['text', 'text_cleaned', 'label']]\n",
    "df.head()"
   ]
  },
  {
   "cell_type": "markdown",
   "id": "d72261f8",
   "metadata": {
    "papermill": {
     "duration": 0.014815,
     "end_time": "2023-03-09T19:39:06.855740",
     "exception": false,
     "start_time": "2023-03-09T19:39:06.840925",
     "status": "completed"
    },
    "tags": []
   },
   "source": [
    "## Stopword Removal"
   ]
  },
  {
   "cell_type": "code",
   "execution_count": 16,
   "id": "e2c4ea99",
   "metadata": {
    "execution": {
     "iopub.execute_input": "2023-03-09T19:39:06.883166Z",
     "iopub.status.busy": "2023-03-09T19:39:06.882723Z",
     "iopub.status.idle": "2023-03-09T19:39:07.640915Z",
     "shell.execute_reply": "2023-03-09T19:39:07.639552Z"
    },
    "papermill": {
     "duration": 0.775484,
     "end_time": "2023-03-09T19:39:07.643851",
     "exception": false,
     "start_time": "2023-03-09T19:39:06.868367",
     "status": "completed"
    },
    "tags": []
   },
   "outputs": [],
   "source": [
    "stop = stopwords.words('english')\n",
    "df['text_cleaned'] = df['text_cleaned'].apply(lambda x: ' '.join([word for word in x.split() if word not in stop]))"
   ]
  },
  {
   "cell_type": "markdown",
   "id": "4d1e7cd4",
   "metadata": {
    "papermill": {
     "duration": 0.012015,
     "end_time": "2023-03-09T19:39:07.668406",
     "exception": false,
     "start_time": "2023-03-09T19:39:07.656391",
     "status": "completed"
    },
    "tags": []
   },
   "source": [
    "## Lemmatization"
   ]
  },
  {
   "cell_type": "code",
   "execution_count": 17,
   "id": "e1c533d3",
   "metadata": {
    "execution": {
     "iopub.execute_input": "2023-03-09T19:39:07.695734Z",
     "iopub.status.busy": "2023-03-09T19:39:07.694982Z",
     "iopub.status.idle": "2023-03-09T19:39:07.704052Z",
     "shell.execute_reply": "2023-03-09T19:39:07.702461Z"
    },
    "papermill": {
     "duration": 0.025962,
     "end_time": "2023-03-09T19:39:07.706738",
     "exception": false,
     "start_time": "2023-03-09T19:39:07.680776",
     "status": "completed"
    },
    "tags": []
   },
   "outputs": [],
   "source": [
    "lemmatizer = WordNetLemmatizer()\n",
    "\n",
    "# mapping the POS tags\n",
    "def get_wordnet_pos(word):\n",
    "    \"\"\"Map POS tag to first character lemmatize() accepts\"\"\"\n",
    "    tag = nltk.pos_tag([word])[0][1][0].upper()\n",
    "    tag_dict = {\"J\": wordnet.ADJ,\n",
    "                \"N\": wordnet.NOUN,\n",
    "                \"V\": wordnet.VERB,\n",
    "                \"R\": wordnet.ADV}\n",
    "\n",
    "    return tag_dict.get(tag, wordnet.NOUN)   \n",
    "\n",
    "def do_lemma(string):\n",
    "    lemmatized = ' '.join([lemmatizer.lemmatize(word, get_wordnet_pos(word)) for word in nltk.word_tokenize(string)])\n",
    "    return lemmatized"
   ]
  },
  {
   "cell_type": "code",
   "execution_count": 18,
   "id": "8e51c6be",
   "metadata": {
    "execution": {
     "iopub.execute_input": "2023-03-09T19:39:07.733653Z",
     "iopub.status.busy": "2023-03-09T19:39:07.733244Z",
     "iopub.status.idle": "2023-03-09T19:39:09.911740Z",
     "shell.execute_reply": "2023-03-09T19:39:09.910250Z"
    },
    "papermill": {
     "duration": 2.195345,
     "end_time": "2023-03-09T19:39:09.914613",
     "exception": false,
     "start_time": "2023-03-09T19:39:07.719268",
     "status": "completed"
    },
    "tags": []
   },
   "outputs": [
    {
     "name": "stdout",
     "output_type": "stream",
     "text": [
      "The strip bat be hang on their foot for best\n"
     ]
    }
   ],
   "source": [
    "sentence = \"The striped bats are hanging on their feet for best\"\n",
    "lemmatized = ' '.join([lemmatizer.lemmatize(word, get_wordnet_pos(word)) for word in nltk.word_tokenize(sentence)])\n",
    "print(do_lemma(sentence))"
   ]
  },
  {
   "cell_type": "code",
   "execution_count": 19,
   "id": "1e3baa3a",
   "metadata": {
    "execution": {
     "iopub.execute_input": "2023-03-09T19:39:09.943564Z",
     "iopub.status.busy": "2023-03-09T19:39:09.943131Z",
     "iopub.status.idle": "2023-03-09T19:39:48.704753Z",
     "shell.execute_reply": "2023-03-09T19:39:48.703494Z"
    },
    "papermill": {
     "duration": 38.779924,
     "end_time": "2023-03-09T19:39:48.707825",
     "exception": false,
     "start_time": "2023-03-09T19:39:09.927901",
     "status": "completed"
    },
    "tags": []
   },
   "outputs": [],
   "source": [
    "df['text_cleaned'] = df['text_cleaned'].apply(lambda x: do_lemma(x))"
   ]
  },
  {
   "cell_type": "code",
   "execution_count": 20,
   "id": "9d47e830",
   "metadata": {
    "execution": {
     "iopub.execute_input": "2023-03-09T19:39:48.737523Z",
     "iopub.status.busy": "2023-03-09T19:39:48.737052Z",
     "iopub.status.idle": "2023-03-09T19:39:48.750642Z",
     "shell.execute_reply": "2023-03-09T19:39:48.749012Z"
    },
    "papermill": {
     "duration": 0.031587,
     "end_time": "2023-03-09T19:39:48.753367",
     "exception": false,
     "start_time": "2023-03-09T19:39:48.721780",
     "status": "completed"
    },
    "tags": []
   },
   "outputs": [
    {
     "data": {
      "text/html": [
       "<div>\n",
       "<style scoped>\n",
       "    .dataframe tbody tr th:only-of-type {\n",
       "        vertical-align: middle;\n",
       "    }\n",
       "\n",
       "    .dataframe tbody tr th {\n",
       "        vertical-align: top;\n",
       "    }\n",
       "\n",
       "    .dataframe thead th {\n",
       "        text-align: right;\n",
       "    }\n",
       "</style>\n",
       "<table border=\"1\" class=\"dataframe\">\n",
       "  <thead>\n",
       "    <tr style=\"text-align: right;\">\n",
       "      <th></th>\n",
       "      <th>text</th>\n",
       "      <th>text_cleaned</th>\n",
       "      <th>label</th>\n",
       "    </tr>\n",
       "  </thead>\n",
       "  <tbody>\n",
       "    <tr>\n",
       "      <th>0</th>\n",
       "      <td>Subject: enron methanol ; meter # : 988291\\r\\n...</td>\n",
       "      <td>subject enron methanol meter follow note give ...</td>\n",
       "      <td>non-spam</td>\n",
       "    </tr>\n",
       "    <tr>\n",
       "      <th>1</th>\n",
       "      <td>Subject: hpl nom for january 9 , 2001\\r\\n( see...</td>\n",
       "      <td>subject hpl nom january see attach file hplnol...</td>\n",
       "      <td>non-spam</td>\n",
       "    </tr>\n",
       "    <tr>\n",
       "      <th>2</th>\n",
       "      <td>Subject: neon retreat\\r\\nho ho ho , we ' re ar...</td>\n",
       "      <td>subject neon retreat ho ho ho around wonderful...</td>\n",
       "      <td>non-spam</td>\n",
       "    </tr>\n",
       "    <tr>\n",
       "      <th>3</th>\n",
       "      <td>Subject: photoshop , windows , office . cheap ...</td>\n",
       "      <td>subject photoshop window office cheap main tre...</td>\n",
       "      <td>spam</td>\n",
       "    </tr>\n",
       "    <tr>\n",
       "      <th>4</th>\n",
       "      <td>Subject: re : indian springs\\r\\nthis deal is t...</td>\n",
       "      <td>subject indian spring deal book teco pvr reven...</td>\n",
       "      <td>non-spam</td>\n",
       "    </tr>\n",
       "  </tbody>\n",
       "</table>\n",
       "</div>"
      ],
      "text/plain": [
       "                                                text  \\\n",
       "0  Subject: enron methanol ; meter # : 988291\\r\\n...   \n",
       "1  Subject: hpl nom for january 9 , 2001\\r\\n( see...   \n",
       "2  Subject: neon retreat\\r\\nho ho ho , we ' re ar...   \n",
       "3  Subject: photoshop , windows , office . cheap ...   \n",
       "4  Subject: re : indian springs\\r\\nthis deal is t...   \n",
       "\n",
       "                                        text_cleaned     label  \n",
       "0  subject enron methanol meter follow note give ...  non-spam  \n",
       "1  subject hpl nom january see attach file hplnol...  non-spam  \n",
       "2  subject neon retreat ho ho ho around wonderful...  non-spam  \n",
       "3  subject photoshop window office cheap main tre...      spam  \n",
       "4  subject indian spring deal book teco pvr reven...  non-spam  "
      ]
     },
     "execution_count": 20,
     "metadata": {},
     "output_type": "execute_result"
    }
   ],
   "source": [
    "df.head()"
   ]
  },
  {
   "cell_type": "markdown",
   "id": "fbc94ff9",
   "metadata": {
    "papermill": {
     "duration": 0.014156,
     "end_time": "2023-03-09T19:39:48.781421",
     "exception": false,
     "start_time": "2023-03-09T19:39:48.767265",
     "status": "completed"
    },
    "tags": []
   },
   "source": [
    "# Data Preparation"
   ]
  },
  {
   "cell_type": "code",
   "execution_count": 21,
   "id": "6cd11291",
   "metadata": {
    "execution": {
     "iopub.execute_input": "2023-03-09T19:39:48.810449Z",
     "iopub.status.busy": "2023-03-09T19:39:48.810006Z",
     "iopub.status.idle": "2023-03-09T19:39:48.821149Z",
     "shell.execute_reply": "2023-03-09T19:39:48.819883Z"
    },
    "papermill": {
     "duration": 0.028408,
     "end_time": "2023-03-09T19:39:48.823579",
     "exception": false,
     "start_time": "2023-03-09T19:39:48.795171",
     "status": "completed"
    },
    "tags": []
   },
   "outputs": [
    {
     "data": {
      "text/plain": [
       "Index(['text', 'label'], dtype='object')"
      ]
     },
     "execution_count": 21,
     "metadata": {},
     "output_type": "execute_result"
    }
   ],
   "source": [
    "df = df.drop(['text'], axis=1)\n",
    "df = df.rename(columns = {'text_cleaned' : 'text'})\n",
    "df.columns"
   ]
  },
  {
   "cell_type": "markdown",
   "id": "2296c22a",
   "metadata": {
    "papermill": {
     "duration": 0.012731,
     "end_time": "2023-03-09T19:39:48.850760",
     "exception": false,
     "start_time": "2023-03-09T19:39:48.838029",
     "status": "completed"
    },
    "tags": []
   },
   "source": [
    "# Feature Extraction using TF-IDF"
   ]
  },
  {
   "cell_type": "code",
   "execution_count": 22,
   "id": "6aedc4d1",
   "metadata": {
    "execution": {
     "iopub.execute_input": "2023-03-09T19:39:48.878649Z",
     "iopub.status.busy": "2023-03-09T19:39:48.878204Z",
     "iopub.status.idle": "2023-03-09T19:39:49.152248Z",
     "shell.execute_reply": "2023-03-09T19:39:49.150505Z"
    },
    "papermill": {
     "duration": 0.291455,
     "end_time": "2023-03-09T19:39:49.155187",
     "exception": false,
     "start_time": "2023-03-09T19:39:48.863732",
     "status": "completed"
    },
    "tags": []
   },
   "outputs": [],
   "source": [
    "tfidf = TfidfVectorizer()\n",
    "X = tfidf.fit_transform(df['text'])\n",
    "y = df['label']"
   ]
  },
  {
   "cell_type": "markdown",
   "id": "e4209444",
   "metadata": {
    "papermill": {
     "duration": 0.013119,
     "end_time": "2023-03-09T19:39:49.181575",
     "exception": false,
     "start_time": "2023-03-09T19:39:49.168456",
     "status": "completed"
    },
    "tags": []
   },
   "source": [
    "## train test split"
   ]
  },
  {
   "cell_type": "code",
   "execution_count": 23,
   "id": "9032f409",
   "metadata": {
    "execution": {
     "iopub.execute_input": "2023-03-09T19:39:49.209564Z",
     "iopub.status.busy": "2023-03-09T19:39:49.209130Z",
     "iopub.status.idle": "2023-03-09T19:39:49.217238Z",
     "shell.execute_reply": "2023-03-09T19:39:49.216238Z"
    },
    "papermill": {
     "duration": 0.025013,
     "end_time": "2023-03-09T19:39:49.219629",
     "exception": false,
     "start_time": "2023-03-09T19:39:49.194616",
     "status": "completed"
    },
    "tags": []
   },
   "outputs": [],
   "source": [
    "X_train, X_test, y_train, y_test = train_test_split(X, y, test_size=0.2, random_state=42)"
   ]
  },
  {
   "cell_type": "markdown",
   "id": "528cb9de",
   "metadata": {
    "papermill": {
     "duration": 0.013353,
     "end_time": "2023-03-09T19:39:49.246077",
     "exception": false,
     "start_time": "2023-03-09T19:39:49.232724",
     "status": "completed"
    },
    "tags": []
   },
   "source": [
    "# Build Model"
   ]
  },
  {
   "cell_type": "markdown",
   "id": "ec84ce6c",
   "metadata": {
    "papermill": {
     "duration": 0.012601,
     "end_time": "2023-03-09T19:39:49.271752",
     "exception": false,
     "start_time": "2023-03-09T19:39:49.259151",
     "status": "completed"
    },
    "tags": []
   },
   "source": [
    "### Naive Bayes"
   ]
  },
  {
   "cell_type": "code",
   "execution_count": 24,
   "id": "dfd4d92f",
   "metadata": {
    "execution": {
     "iopub.execute_input": "2023-03-09T19:39:49.301021Z",
     "iopub.status.busy": "2023-03-09T19:39:49.300223Z",
     "iopub.status.idle": "2023-03-09T19:39:49.318504Z",
     "shell.execute_reply": "2023-03-09T19:39:49.317029Z"
    },
    "papermill": {
     "duration": 0.036214,
     "end_time": "2023-03-09T19:39:49.321194",
     "exception": false,
     "start_time": "2023-03-09T19:39:49.284980",
     "status": "completed"
    },
    "tags": []
   },
   "outputs": [
    {
     "data": {
      "text/plain": [
       "MultinomialNB()"
      ]
     },
     "execution_count": 24,
     "metadata": {},
     "output_type": "execute_result"
    }
   ],
   "source": [
    "clf_nb = MultinomialNB()\n",
    "clf_nb.fit(X_train, y_train)"
   ]
  },
  {
   "cell_type": "code",
   "execution_count": 25,
   "id": "a88f86d6",
   "metadata": {
    "execution": {
     "iopub.execute_input": "2023-03-09T19:39:49.351445Z",
     "iopub.status.busy": "2023-03-09T19:39:49.350178Z",
     "iopub.status.idle": "2023-03-09T19:39:49.357911Z",
     "shell.execute_reply": "2023-03-09T19:39:49.356250Z"
    },
    "papermill": {
     "duration": 0.026389,
     "end_time": "2023-03-09T19:39:49.360775",
     "exception": false,
     "start_time": "2023-03-09T19:39:49.334386",
     "status": "completed"
    },
    "tags": []
   },
   "outputs": [],
   "source": [
    "pred_nb = clf_nb.predict(X_test)"
   ]
  },
  {
   "cell_type": "markdown",
   "id": "021553cc",
   "metadata": {
    "papermill": {
     "duration": 0.012769,
     "end_time": "2023-03-09T19:39:49.386716",
     "exception": false,
     "start_time": "2023-03-09T19:39:49.373947",
     "status": "completed"
    },
    "tags": []
   },
   "source": [
    "### Logistic Regression"
   ]
  },
  {
   "cell_type": "code",
   "execution_count": 26,
   "id": "8c855cb4",
   "metadata": {
    "execution": {
     "iopub.execute_input": "2023-03-09T19:39:49.415035Z",
     "iopub.status.busy": "2023-03-09T19:39:49.414597Z",
     "iopub.status.idle": "2023-03-09T19:39:49.495998Z",
     "shell.execute_reply": "2023-03-09T19:39:49.494260Z"
    },
    "papermill": {
     "duration": 0.100712,
     "end_time": "2023-03-09T19:39:49.500592",
     "exception": false,
     "start_time": "2023-03-09T19:39:49.399880",
     "status": "completed"
    },
    "tags": []
   },
   "outputs": [
    {
     "data": {
      "text/plain": [
       "LogisticRegression(C=10, solver='liblinear')"
      ]
     },
     "execution_count": 26,
     "metadata": {},
     "output_type": "execute_result"
    }
   ],
   "source": [
    "clf_lr=LogisticRegression(solver = 'liblinear', C=10, penalty = 'l2')\n",
    "clf_lr.fit(X_train, y_train)"
   ]
  },
  {
   "cell_type": "code",
   "execution_count": 27,
   "id": "4482bd06",
   "metadata": {
    "execution": {
     "iopub.execute_input": "2023-03-09T19:39:49.573225Z",
     "iopub.status.busy": "2023-03-09T19:39:49.572273Z",
     "iopub.status.idle": "2023-03-09T19:39:49.582065Z",
     "shell.execute_reply": "2023-03-09T19:39:49.580306Z"
    },
    "papermill": {
     "duration": 0.052066,
     "end_time": "2023-03-09T19:39:49.586831",
     "exception": false,
     "start_time": "2023-03-09T19:39:49.534765",
     "status": "completed"
    },
    "tags": []
   },
   "outputs": [],
   "source": [
    "pred_lr = clf_lr.predict(X_test)"
   ]
  },
  {
   "cell_type": "markdown",
   "id": "752d7d7d",
   "metadata": {
    "papermill": {
     "duration": 0.013226,
     "end_time": "2023-03-09T19:39:49.626256",
     "exception": false,
     "start_time": "2023-03-09T19:39:49.613030",
     "status": "completed"
    },
    "tags": []
   },
   "source": [
    "## Random Forest"
   ]
  },
  {
   "cell_type": "code",
   "execution_count": 28,
   "id": "8d074e6f",
   "metadata": {
    "execution": {
     "iopub.execute_input": "2023-03-09T19:39:49.655175Z",
     "iopub.status.busy": "2023-03-09T19:39:49.654669Z",
     "iopub.status.idle": "2023-03-09T19:39:51.431561Z",
     "shell.execute_reply": "2023-03-09T19:39:51.430290Z"
    },
    "papermill": {
     "duration": 1.794948,
     "end_time": "2023-03-09T19:39:51.434782",
     "exception": false,
     "start_time": "2023-03-09T19:39:49.639834",
     "status": "completed"
    },
    "tags": []
   },
   "outputs": [
    {
     "data": {
      "text/plain": [
       "RandomForestClassifier()"
      ]
     },
     "execution_count": 28,
     "metadata": {},
     "output_type": "execute_result"
    }
   ],
   "source": [
    "clf_rf = RandomForestClassifier(n_estimators=100, criterion=\"gini\")\n",
    "clf_rf.fit(X_train, y_train)"
   ]
  },
  {
   "cell_type": "code",
   "execution_count": 29,
   "id": "30c5c94c",
   "metadata": {
    "execution": {
     "iopub.execute_input": "2023-03-09T19:39:51.464370Z",
     "iopub.status.busy": "2023-03-09T19:39:51.463194Z",
     "iopub.status.idle": "2023-03-09T19:39:51.510879Z",
     "shell.execute_reply": "2023-03-09T19:39:51.509477Z"
    },
    "papermill": {
     "duration": 0.065517,
     "end_time": "2023-03-09T19:39:51.513666",
     "exception": false,
     "start_time": "2023-03-09T19:39:51.448149",
     "status": "completed"
    },
    "tags": []
   },
   "outputs": [],
   "source": [
    "pred_rf = clf_rf.predict(X_test)"
   ]
  },
  {
   "cell_type": "markdown",
   "id": "6ee91ce4",
   "metadata": {
    "papermill": {
     "duration": 0.013481,
     "end_time": "2023-03-09T19:39:51.540628",
     "exception": false,
     "start_time": "2023-03-09T19:39:51.527147",
     "status": "completed"
    },
    "tags": []
   },
   "source": [
    "# Evaluation"
   ]
  },
  {
   "cell_type": "code",
   "execution_count": 30,
   "id": "c6380225",
   "metadata": {
    "execution": {
     "iopub.execute_input": "2023-03-09T19:39:51.570069Z",
     "iopub.status.busy": "2023-03-09T19:39:51.569596Z",
     "iopub.status.idle": "2023-03-09T19:39:51.589575Z",
     "shell.execute_reply": "2023-03-09T19:39:51.588163Z"
    },
    "papermill": {
     "duration": 0.038408,
     "end_time": "2023-03-09T19:39:51.593078",
     "exception": false,
     "start_time": "2023-03-09T19:39:51.554670",
     "status": "completed"
    },
    "tags": []
   },
   "outputs": [
    {
     "name": "stdout",
     "output_type": "stream",
     "text": [
      "              precision    recall  f1-score   support\n",
      "\n",
      "    non-spam       0.95      0.97      0.96       187\n",
      "        spam       0.98      0.95      0.96       213\n",
      "\n",
      "    accuracy                           0.96       400\n",
      "   macro avg       0.96      0.96      0.96       400\n",
      "weighted avg       0.96      0.96      0.96       400\n",
      "\n"
     ]
    }
   ],
   "source": [
    "# Hasil menggunakan Naive Bayes\n",
    "print(classification_report(y_test,pred_nb))"
   ]
  },
  {
   "cell_type": "code",
   "execution_count": 31,
   "id": "f9192b30",
   "metadata": {
    "execution": {
     "iopub.execute_input": "2023-03-09T19:39:51.624833Z",
     "iopub.status.busy": "2023-03-09T19:39:51.623316Z",
     "iopub.status.idle": "2023-03-09T19:39:51.632191Z",
     "shell.execute_reply": "2023-03-09T19:39:51.630533Z"
    },
    "papermill": {
     "duration": 0.02733,
     "end_time": "2023-03-09T19:39:51.635581",
     "exception": false,
     "start_time": "2023-03-09T19:39:51.608251",
     "status": "completed"
    },
    "tags": []
   },
   "outputs": [
    {
     "name": "stdout",
     "output_type": "stream",
     "text": [
      "Accuracy model Naive Bayes: 96.25 %\n"
     ]
    }
   ],
   "source": [
    "print('Accuracy model Naive Bayes: %0.2f' % (accuracy_score(y_test, pred_nb)*100), '%')"
   ]
  },
  {
   "cell_type": "code",
   "execution_count": 32,
   "id": "19f7cf7a",
   "metadata": {
    "execution": {
     "iopub.execute_input": "2023-03-09T19:39:51.665068Z",
     "iopub.status.busy": "2023-03-09T19:39:51.664604Z",
     "iopub.status.idle": "2023-03-09T19:39:51.688228Z",
     "shell.execute_reply": "2023-03-09T19:39:51.686290Z"
    },
    "papermill": {
     "duration": 0.041722,
     "end_time": "2023-03-09T19:39:51.691176",
     "exception": false,
     "start_time": "2023-03-09T19:39:51.649454",
     "status": "completed"
    },
    "tags": []
   },
   "outputs": [
    {
     "name": "stdout",
     "output_type": "stream",
     "text": [
      "              precision    recall  f1-score   support\n",
      "\n",
      "    non-spam       1.00      0.97      0.98       187\n",
      "        spam       0.97      1.00      0.99       213\n",
      "\n",
      "    accuracy                           0.98       400\n",
      "   macro avg       0.99      0.98      0.98       400\n",
      "weighted avg       0.99      0.98      0.98       400\n",
      "\n"
     ]
    }
   ],
   "source": [
    "# Hasil menggunakan Naive Bayes\n",
    "print(classification_report(y_test,pred_lr))"
   ]
  },
  {
   "cell_type": "code",
   "execution_count": 33,
   "id": "3ee364df",
   "metadata": {
    "execution": {
     "iopub.execute_input": "2023-03-09T19:39:51.721793Z",
     "iopub.status.busy": "2023-03-09T19:39:51.721034Z",
     "iopub.status.idle": "2023-03-09T19:39:51.729604Z",
     "shell.execute_reply": "2023-03-09T19:39:51.727997Z"
    },
    "papermill": {
     "duration": 0.026944,
     "end_time": "2023-03-09T19:39:51.732384",
     "exception": false,
     "start_time": "2023-03-09T19:39:51.705440",
     "status": "completed"
    },
    "tags": []
   },
   "outputs": [
    {
     "name": "stdout",
     "output_type": "stream",
     "text": [
      "Accuracy model Logistic Regression: 98.50 %\n"
     ]
    }
   ],
   "source": [
    "print('Accuracy model Logistic Regression: %0.2f' % (accuracy_score(y_test, pred_lr)*100), '%')"
   ]
  },
  {
   "cell_type": "code",
   "execution_count": 34,
   "id": "4a3ebf43",
   "metadata": {
    "execution": {
     "iopub.execute_input": "2023-03-09T19:39:51.762790Z",
     "iopub.status.busy": "2023-03-09T19:39:51.761706Z",
     "iopub.status.idle": "2023-03-09T19:39:51.784418Z",
     "shell.execute_reply": "2023-03-09T19:39:51.782305Z"
    },
    "papermill": {
     "duration": 0.041336,
     "end_time": "2023-03-09T19:39:51.787649",
     "exception": false,
     "start_time": "2023-03-09T19:39:51.746313",
     "status": "completed"
    },
    "tags": []
   },
   "outputs": [
    {
     "name": "stdout",
     "output_type": "stream",
     "text": [
      "              precision    recall  f1-score   support\n",
      "\n",
      "    non-spam       0.99      0.94      0.96       187\n",
      "        spam       0.95      1.00      0.97       213\n",
      "\n",
      "    accuracy                           0.97       400\n",
      "   macro avg       0.97      0.97      0.97       400\n",
      "weighted avg       0.97      0.97      0.97       400\n",
      "\n"
     ]
    }
   ],
   "source": [
    "# Hasil menggunakan Random Forest\n",
    "print(classification_report(y_test,pred_rf))"
   ]
  },
  {
   "cell_type": "code",
   "execution_count": 35,
   "id": "32b3194b",
   "metadata": {
    "execution": {
     "iopub.execute_input": "2023-03-09T19:39:51.818518Z",
     "iopub.status.busy": "2023-03-09T19:39:51.818098Z",
     "iopub.status.idle": "2023-03-09T19:39:51.826628Z",
     "shell.execute_reply": "2023-03-09T19:39:51.824764Z"
    },
    "papermill": {
     "duration": 0.02799,
     "end_time": "2023-03-09T19:39:51.829595",
     "exception": false,
     "start_time": "2023-03-09T19:39:51.801605",
     "status": "completed"
    },
    "tags": []
   },
   "outputs": [
    {
     "name": "stdout",
     "output_type": "stream",
     "text": [
      "Accuracy model Random Forest: 96.75 %\n"
     ]
    }
   ],
   "source": [
    "print('Accuracy model Random Forest: %0.2f' % (accuracy_score(y_test, pred_rf)*100), '%')"
   ]
  },
  {
   "cell_type": "code",
   "execution_count": null,
   "id": "5fcfdcb9",
   "metadata": {
    "papermill": {
     "duration": 0.01472,
     "end_time": "2023-03-09T19:39:51.859802",
     "exception": false,
     "start_time": "2023-03-09T19:39:51.845082",
     "status": "completed"
    },
    "tags": []
   },
   "outputs": [],
   "source": []
  }
 ],
 "metadata": {
  "kernelspec": {
   "display_name": "Python 3 (ipykernel)",
   "language": "python",
   "name": "python3"
  },
  "language_info": {
   "codemirror_mode": {
    "name": "ipython",
    "version": 3
   },
   "file_extension": ".py",
   "mimetype": "text/x-python",
   "name": "python",
   "nbconvert_exporter": "python",
   "pygments_lexer": "ipython3",
   "version": "3.9.7"
  },
  "papermill": {
   "default_parameters": {},
   "duration": 62.887217,
   "end_time": "2023-03-09T19:39:53.101893",
   "environment_variables": {},
   "exception": null,
   "input_path": "__notebook__.ipynb",
   "output_path": "__notebook__.ipynb",
   "parameters": {},
   "start_time": "2023-03-09T19:38:50.214676",
   "version": "2.3.4"
  }
 },
 "nbformat": 4,
 "nbformat_minor": 5
}
